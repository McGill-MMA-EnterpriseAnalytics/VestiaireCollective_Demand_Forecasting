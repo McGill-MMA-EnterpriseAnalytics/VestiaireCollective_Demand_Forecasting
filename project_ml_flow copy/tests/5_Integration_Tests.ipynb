{
 "cells": [
  {
   "cell_type": "markdown",
   "id": "709a094d",
   "metadata": {},
   "source": [
    "# 5. Integration Tests\n",
    "\n",
    "Test if the full cleaning pipeline runs successfully."
   ]
  },
  {
   "cell_type": "code",
   "execution_count": null,
   "id": "eba36c32",
   "metadata": {},
   "outputs": [],
   "source": [
    "\n",
    "import seller_analysis_notebook_script as sa\n",
    "\n",
    "def test_full_pipeline_runs():\n",
    "    df = sa.df\n",
    "    assert df.shape[0] > 0, \"DataFrame is empty.\"\n",
    "    assert isinstance(sa.num_col, list)\n",
    "    assert isinstance(sa.cat_col, list)\n",
    "    assert isinstance(sa.bol_col, list)\n",
    "\n",
    "print(\"Integration test ready.\")\n"
   ]
  }
 ],
 "metadata": {},
 "nbformat": 4,
 "nbformat_minor": 5
}
