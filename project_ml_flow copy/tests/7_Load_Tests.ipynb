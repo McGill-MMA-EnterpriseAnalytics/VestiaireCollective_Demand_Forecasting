{
 "cells": [
  {
   "cell_type": "markdown",
   "id": "1457e224",
   "metadata": {},
   "source": [
    "# 7. Load Tests\n",
    "\n",
    "Test if the pipeline can handle large datasets."
   ]
  },
  {
   "cell_type": "code",
   "execution_count": null,
   "id": "f88d4e06",
   "metadata": {},
   "outputs": [],
   "source": [
    "\n",
    "import seller_analysis_notebook_script as sa\n",
    "import pandas as pd\n",
    "\n",
    "def test_load_big_data():\n",
    "    df_big = pd.concat([sa.df]*10, ignore_index=True)\n",
    "    assert df_big.shape[0] == 10 * sa.df.shape[0], \"Data not scaled properly.\"\n",
    "\n",
    "print(\"Load test ready.\")\n"
   ]
  }
 ],
 "metadata": {},
 "nbformat": 4,
 "nbformat_minor": 5
}
