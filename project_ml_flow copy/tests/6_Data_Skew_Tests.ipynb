{
 "cells": [
  {
   "cell_type": "markdown",
   "id": "aeef8eab",
   "metadata": {},
   "source": [
    "# 6. Data Skew Tests\n",
    "\n",
    "Detect significant shifts in data distributions."
   ]
  },
  {
   "cell_type": "code",
   "execution_count": null,
   "id": "f8880907",
   "metadata": {},
   "outputs": [],
   "source": [
    "\n",
    "import seller_analysis_notebook_script as sa\n",
    "import pandas as pd\n",
    "\n",
    "def test_data_skew():\n",
    "    original_mean = sa.df['buyers_fees'].mean()\n",
    "    new_data = pd.DataFrame({'buyers_fees': [2.0, 2.5, 3.0]})\n",
    "    new_mean = new_data['buyers_fees'].mean()\n",
    "    assert abs(original_mean - new_mean) < 5.0, \"Buyers fees distribution shifted significantly.\"\n",
    "\n",
    "print(\"Data skew test ready.\")\n"
   ]
  }
 ],
 "metadata": {},
 "nbformat": 4,
 "nbformat_minor": 5
}
