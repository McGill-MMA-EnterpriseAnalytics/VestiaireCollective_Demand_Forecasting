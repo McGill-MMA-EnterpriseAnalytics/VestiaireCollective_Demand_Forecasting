{
 "cells": [
  {
   "cell_type": "markdown",
   "id": "40ea24c2",
   "metadata": {},
   "source": [
    "# 1. Unit Tests\n",
    "\n",
    "Test small isolated logic blocks: missing value imputation, column dropping, etc."
   ]
  },
  {
   "cell_type": "code",
   "execution_count": null,
   "id": "f332e2dc",
   "metadata": {},
   "outputs": [],
   "source": [
    "\n",
    "import sys\n",
    "import os\n",
    "sys.path.insert(0, os.path.abspath(os.path.join(os.path.dirname(\"__file__\"), '../src')))\n",
    "\n",
    "import seller_analysis_notebook_script as sa\n",
    "import pandas as pd\n",
    "\n",
    "def test_no_missing_values():\n",
    "    df = sa.df\n",
    "    assert df.isnull().sum().sum() == 0, \"There are missing values remaining.\"\n",
    "\n",
    "def test_irrelevant_columns_dropped():\n",
    "    df = sa.df\n",
    "    dropped_cols = [\n",
    "        'product_keywords', 'product_id', 'product_name',\n",
    "        'product_description', 'brand_id', 'brand_url', 'seller_username'\n",
    "    ]\n",
    "    for col in dropped_cols:\n",
    "        assert col not in df.columns, f\"Column {col} was not dropped.\"\n",
    "\n",
    "print(\"Unit tests loaded. Run with pytest or call functions manually.\")\n"
   ]
  }
 ],
 "metadata": {},
 "nbformat": 4,
 "nbformat_minor": 5
}
