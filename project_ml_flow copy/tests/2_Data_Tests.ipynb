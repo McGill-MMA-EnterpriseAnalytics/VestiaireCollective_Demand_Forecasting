{
 "cells": [
  {
   "cell_type": "markdown",
   "id": "17e95d7d",
   "metadata": {},
   "source": [
    "# 2. Data Tests\n",
    "\n",
    "Test data quality: no duplicates, correct types."
   ]
  },
  {
   "cell_type": "code",
   "execution_count": null,
   "id": "6b5f1dfe",
   "metadata": {},
   "outputs": [],
   "source": [
    "\n",
    "import seller_analysis_notebook_script as sa\n",
    "import pandas as pd\n",
    "\n",
    "def test_no_duplicate_rows():\n",
    "    df = sa.df\n",
    "    assert df.duplicated().sum() == 0, \"Duplicate rows found.\"\n",
    "\n",
    "def test_column_types_expected():\n",
    "    df = sa.df\n",
    "    expected_types = {\n",
    "        'has_cross_border_fees': 'bool',\n",
    "        'buyers_fees': 'float64',\n",
    "    }\n",
    "    for col, expected_dtype in expected_types.items():\n",
    "        assert str(df[col].dtype) == expected_dtype, f\"{col} is not {expected_dtype}\"\n",
    "\n",
    "print(\"Data tests loaded. Run with pytest or manually.\")\n"
   ]
  }
 ],
 "metadata": {},
 "nbformat": 4,
 "nbformat_minor": 5
}
